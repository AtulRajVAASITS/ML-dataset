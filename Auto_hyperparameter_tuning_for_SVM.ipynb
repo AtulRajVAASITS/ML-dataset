{
  "cells": [
    {
      "cell_type": "code",
      "source": [
        "!git clone https://github.com/deepanrajm/machine_learning.git\n",
        "from pandas import read_csv\n",
        "import numpy as np\n",
        "import sklearn\n",
        "from sklearn.metrics import classification_report\n",
        "from sklearn.svm import SVC\n",
        "from matplotlib import pyplot as plt\n",
        "from sklearn.model_selection import train_test_split\n",
        "dataframe = read_csv(\"machine_learning/Classification/fetal_health.csv\")\n",
        "dataframe.head()\n",
        "dataframe.info()\n",
        "dataset = dataframe.values\n",
        "data = dataset[:,0:21].astype(float)\n",
        "labels = dataset[:,21]\n",
        "(trainData, testData, trainLabels, testLabels) = train_test_split(np.array(data),\n",
        "\tnp.array(labels), test_size=0.25, random_state=42)\n",
        "kernels = (\"linear\", \"poly\", \"sigmoid\", \"rbf\")\n",
        "# \"linear\", \"poly\", \"sigmoid\", \"rbf\" , \"precomputed\")\n",
        "values = []\n",
        "\n",
        "for i in kernels:\n",
        "  model = SVC(kernel=i,C=1)\n",
        "  model.fit(trainData, trainLabels)\n",
        "  val = f\"Kernal = {i}\"\n",
        "  val1 = model.score(trainData, trainLabels)\n",
        "  val2 = model.score(testData, testLabels)\n",
        "  if val1 - val2 <=.03:\n",
        "        values.append((val, val1, val2))\n",
        "print(values)"
      ],
      "metadata": {
        "id": "15XgSjlv_a0n",
        "colab": {
          "base_uri": "https://localhost:8080/"
        },
        "outputId": "90adbb1c-885d-4bc4-c9be-c00b53d36b5b"
      },
      "execution_count": 3,
      "outputs": [
        {
          "output_type": "stream",
          "name": "stdout",
          "text": [
            "<class 'pandas.core.frame.DataFrame'>\n",
            "RangeIndex: 2126 entries, 0 to 2125\n",
            "Data columns (total 22 columns):\n",
            " #   Column                                                  Non-Null Count  Dtype  \n",
            "---  ------                                                  --------------  -----  \n",
            " 0   baseline value                                          2126 non-null   float64\n",
            " 1   accelerations                                           2126 non-null   float64\n",
            " 2   fetal_movement                                          2126 non-null   float64\n",
            " 3   uterine_contractions                                    2126 non-null   float64\n",
            " 4   light_decelerations                                     2126 non-null   float64\n",
            " 5   severe_decelerations                                    2126 non-null   float64\n",
            " 6   prolongued_decelerations                                2126 non-null   float64\n",
            " 7   abnormal_short_term_variability                         2126 non-null   float64\n",
            " 8   mean_value_of_short_term_variability                    2126 non-null   float64\n",
            " 9   percentage_of_time_with_abnormal_long_term_variability  2126 non-null   float64\n",
            " 10  mean_value_of_long_term_variability                     2126 non-null   float64\n",
            " 11  histogram_width                                         2126 non-null   float64\n",
            " 12  histogram_min                                           2126 non-null   float64\n",
            " 13  histogram_max                                           2126 non-null   float64\n",
            " 14  histogram_number_of_peaks                               2126 non-null   float64\n",
            " 15  histogram_number_of_zeroes                              2126 non-null   float64\n",
            " 16  histogram_mode                                          2126 non-null   float64\n",
            " 17  histogram_mean                                          2126 non-null   float64\n",
            " 18  histogram_median                                        2126 non-null   float64\n",
            " 19  histogram_variance                                      2126 non-null   float64\n",
            " 20  histogram_tendency                                      2126 non-null   float64\n",
            " 21  fetal_health                                            2126 non-null   float64\n",
            "dtypes: float64(22)\n",
            "memory usage: 365.5 KB\n",
            "[('Kernal = linear', 0.8864491844416562, 0.8778195488721805), ('Kernal = poly', 0.8720200752823086, 0.8665413533834586), ('Kernal = sigmoid', 0.7722710163111669, 0.7744360902255639), ('Kernal = rbf', 0.8582183186951067, 0.849624060150376)]\n"
          ]
        }
      ]
    }
  ],
  "metadata": {
    "colab": {
      "provenance": []
    },
    "kernelspec": {
      "display_name": "Python 3",
      "name": "python3"
    },
    "language_info": {
      "name": "python"
    }
  },
  "nbformat": 4,
  "nbformat_minor": 0
}