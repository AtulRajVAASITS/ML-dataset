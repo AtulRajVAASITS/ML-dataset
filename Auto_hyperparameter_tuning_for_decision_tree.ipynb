{
  "cells": [
    {
      "cell_type": "code",
      "source": [
        "!git clone https://github.com/deepanrajm/machine_learning.git\n",
        "from pandas import read_csv\n",
        "import numpy as np\n",
        "import sklearn\n",
        "from sklearn.metrics import classification_report\n",
        "from sklearn.tree import DecisionTreeClassifier\n",
        "from matplotlib import pyplot as plt\n",
        "from sklearn.model_selection import train_test_split\n",
        "from sklearn import tree\n",
        "dataframe = read_csv(\"machine_learning/Classification/pima-indians-diabetes.csv\",header=None)\n",
        "dataset = dataframe.values\n",
        "data = dataset[:,0:8].astype(float)\n",
        "labels = dataset[:,8]\n",
        "(trainData, testData, trainLabels, testLabels) = train_test_split(np.array(data),\n",
        "\tnp.array(labels), test_size=0.25, random_state=42)\n",
        "features = len(dataframe. columns)\n",
        "values = []\n",
        "criterions = (\"gini\",\"entropy\")\n",
        "for i in range(1,features):\n",
        "  for x in range(1,15):\n",
        "    for y in criterions:\n",
        "      model = DecisionTreeClassifier(random_state=42,criterion=y, max_features=i, max_depth = x)\n",
        "      model.fit(trainData, trainLabels)\n",
        "      val = f\"Result {i} {x} {y}\"\n",
        "      val1 =(model.score(trainData, trainLabels))\n",
        "      val2 = (model.score(testData, testLabels))\n",
        "      if model.score(trainData, trainLabels) - model.score(testData, testLabels) <=.03:\n",
        "        values.append((val, val1, val2))\n",
        "print(values)\n",
        "print(max(values))\n",
        "\n",
        "\n"
      ],
      "metadata": {
        "id": "15XgSjlv_a0n",
        "colab": {
          "base_uri": "https://localhost:8080/"
        },
        "outputId": "61325388-8acc-4543-c010-ce61138840b9"
      },
      "execution_count": null,
      "outputs": [
        {
          "output_type": "stream",
          "name": "stdout",
          "text": [
            "Cloning into 'machine_learning'...\n",
            "remote: Enumerating objects: 73078, done.\u001b[K\n",
            "remote: Counting objects: 100% (3048/3048), done.\u001b[K\n",
            "remote: Compressing objects: 100% (2851/2851), done.\u001b[K\n",
            "remote: Total 73078 (delta 207), reused 3028 (delta 190), pack-reused 70030\u001b[K\n",
            "Receiving objects: 100% (73078/73078), 126.34 MiB | 21.20 MiB/s, done.\n",
            "Resolving deltas: 100% (209/209), done.\n",
            "Updating files: 100% (5867/5867), done.\n",
            "[('Result 1 1 gini', 0.6788194444444444, 0.6770833333333334), ('Result 1 1 entropy', 0.6788194444444444, 0.6770833333333334), ('Result 1 2 entropy', 0.6944444444444444, 0.6770833333333334), ('Result 2 1 gini', 0.6788194444444444, 0.6770833333333334), ('Result 2 1 entropy', 0.6788194444444444, 0.6770833333333334), ('Result 2 2 gini', 0.7065972222222222, 0.6927083333333334), ('Result 2 2 entropy', 0.7065972222222222, 0.6927083333333334), ('Result 2 3 gini', 0.7413194444444444, 0.7135416666666666), ('Result 3 1 gini', 0.6545138888888888, 0.640625), ('Result 3 1 entropy', 0.6545138888888888, 0.640625), ('Result 3 4 entropy', 0.7413194444444444, 0.7239583333333334), ('Result 4 1 gini', 0.6545138888888888, 0.640625), ('Result 4 1 entropy', 0.6545138888888888, 0.640625), ('Result 5 1 gini', 0.6545138888888888, 0.640625), ('Result 5 1 entropy', 0.6545138888888888, 0.640625), ('Result 6 1 gini', 0.6545138888888888, 0.640625), ('Result 6 1 entropy', 0.6545138888888888, 0.640625), ('Result 7 1 gini', 0.6545138888888888, 0.640625), ('Result 7 1 entropy', 0.6545138888888888, 0.640625), ('Result 7 2 entropy', 0.7743055555555556, 0.75), ('Result 7 3 entropy', 0.7743055555555556, 0.75)]\n",
            "('Result 7 3 entropy', 0.7743055555555556, 0.75)\n"
          ]
        }
      ]
    },
    {
      "cell_type": "code",
      "source": [],
      "metadata": {
        "id": "L-mM0Jiw3cDC",
        "colab": {
          "base_uri": "https://localhost:8080/"
        },
        "outputId": "9c2cd050-f71e-47de-d914-a0624df38440"
      },
      "execution_count": null,
      "outputs": [
        {
          "output_type": "stream",
          "name": "stdout",
          "text": [
            "[('Result for value of n_neighbors 1 and weights uniform', 1.0, 1.0), ('Result for value of n_neighbors 1 and weights distance', 1.0, 1.0), ('Result for value of n_neighbors 2 and weights uniform', 0.9642857142857143, 1.0), ('Result for value of n_neighbors 2 and weights distance', 1.0, 1.0), ('Result for value of n_neighbors 3 and weights uniform', 0.9464285714285714, 1.0), ('Result for value of n_neighbors 3 and weights distance', 1.0, 1.0), ('Result for value of n_neighbors 4 and weights uniform', 0.9642857142857143, 1.0), ('Result for value of n_neighbors 4 and weights distance', 1.0, 1.0), ('Result for value of n_neighbors 5 and weights uniform', 0.9642857142857143, 1.0), ('Result for value of n_neighbors 5 and weights distance', 1.0, 1.0), ('Result for value of n_neighbors 6 and weights uniform', 0.9642857142857143, 1.0), ('Result for value of n_neighbors 6 and weights distance', 1.0, 1.0), ('Result for value of n_neighbors 7 and weights uniform', 0.9732142857142857, 1.0), ('Result for value of n_neighbors 7 and weights distance', 1.0, 1.0), ('Result for value of n_neighbors 8 and weights uniform', 0.9642857142857143, 1.0), ('Result for value of n_neighbors 8 and weights distance', 1.0, 1.0)]\n"
          ]
        }
      ]
    },
    {
      "cell_type": "code",
      "source": [],
      "metadata": {
        "colab": {
          "base_uri": "https://localhost:8080/"
        },
        "id": "uzWF6ca1pi-H",
        "outputId": "ae77cc71-4945-4aa6-b431-fccc088a379f"
      },
      "execution_count": null,
      "outputs": [
        {
          "output_type": "stream",
          "name": "stdout",
          "text": [
            "fatal: destination path 'machine_learning' already exists and is not an empty directory.\n",
            "<class 'pandas.core.frame.DataFrame'>\n",
            "RangeIndex: 2126 entries, 0 to 2125\n",
            "Data columns (total 22 columns):\n",
            " #   Column                                                  Non-Null Count  Dtype  \n",
            "---  ------                                                  --------------  -----  \n",
            " 0   baseline value                                          2126 non-null   float64\n",
            " 1   accelerations                                           2126 non-null   float64\n",
            " 2   fetal_movement                                          2126 non-null   float64\n",
            " 3   uterine_contractions                                    2126 non-null   float64\n",
            " 4   light_decelerations                                     2126 non-null   float64\n",
            " 5   severe_decelerations                                    2126 non-null   float64\n",
            " 6   prolongued_decelerations                                2126 non-null   float64\n",
            " 7   abnormal_short_term_variability                         2126 non-null   float64\n",
            " 8   mean_value_of_short_term_variability                    2126 non-null   float64\n",
            " 9   percentage_of_time_with_abnormal_long_term_variability  2126 non-null   float64\n",
            " 10  mean_value_of_long_term_variability                     2126 non-null   float64\n",
            " 11  histogram_width                                         2126 non-null   float64\n",
            " 12  histogram_min                                           2126 non-null   float64\n",
            " 13  histogram_max                                           2126 non-null   float64\n",
            " 14  histogram_number_of_peaks                               2126 non-null   float64\n",
            " 15  histogram_number_of_zeroes                              2126 non-null   float64\n",
            " 16  histogram_mode                                          2126 non-null   float64\n",
            " 17  histogram_mean                                          2126 non-null   float64\n",
            " 18  histogram_median                                        2126 non-null   float64\n",
            " 19  histogram_variance                                      2126 non-null   float64\n",
            " 20  histogram_tendency                                      2126 non-null   float64\n",
            " 21  fetal_health                                            2126 non-null   float64\n",
            "dtypes: float64(22)\n",
            "memory usage: 365.5 KB\n",
            "[('Kernal = linear', 0.8864491844416562, 0.8778195488721805), ('Kernal = poly', 0.8720200752823086, 0.8665413533834586), ('Kernal = sigmoid', 0.7722710163111669, 0.7744360902255639), ('Kernal = rbf', 0.8582183186951067, 0.849624060150376)]\n"
          ]
        }
      ]
    }
  ],
  "metadata": {
    "colab": {
      "provenance": []
    },
    "kernelspec": {
      "display_name": "Python 3",
      "name": "python3"
    },
    "language_info": {
      "name": "python"
    }
  },
  "nbformat": 4,
  "nbformat_minor": 0
}